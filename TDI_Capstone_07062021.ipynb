{
 "cells": [
  {
   "cell_type": "markdown",
   "metadata": {},
   "source": [
    "# Predicting SBA Loan Defaults"
   ]
  },
  {
   "cell_type": "markdown",
   "metadata": {},
   "source": [
    "Importing libraries used to perform this analysis"
   ]
  },
  {
   "cell_type": "code",
   "execution_count": 1,
   "metadata": {},
   "outputs": [],
   "source": [
    "import numpy as np\n",
    "import pandas as pd\n",
    "import seaborn as sns\n",
    "import matplotlib.pyplot as plt\n",
    "import geopandas as gpd\n",
    "from sklearn.linear_model import LogisticRegression\n",
    "from sklearn import base\n",
    "from sklearn.model_selection import train_test_split\n",
    "from sklearn.preprocessing import OneHotEncoder\n",
    "from sklearn.pipeline import Pipeline\n",
    "from sklearn.metrics import confusion_matrix\n",
    "from sklearn.ensemble import RandomForestClassifier"
   ]
  },
  {
   "cell_type": "markdown",
   "metadata": {},
   "source": [
    "## Load dataset"
   ]
  },
  {
   "cell_type": "markdown",
   "metadata": {},
   "source": [
    "This section loads the SBA dataset, and converts values into usable format"
   ]
  },
  {
   "cell_type": "code",
   "execution_count": 2,
   "metadata": {},
   "outputs": [
    {
     "name": "stderr",
     "output_type": "stream",
     "text": [
      "/opt/anaconda3/lib/python3.8/site-packages/IPython/core/interactiveshell.py:3146: DtypeWarning: Columns (9) have mixed types.Specify dtype option on import or set low_memory=False.\n",
      "  has_raised = await self.run_ast_nodes(code_ast.body, cell_name,\n"
     ]
    },
    {
     "data": {
      "text/html": [
       "<div>\n",
       "<style scoped>\n",
       "    .dataframe tbody tr th:only-of-type {\n",
       "        vertical-align: middle;\n",
       "    }\n",
       "\n",
       "    .dataframe tbody tr th {\n",
       "        vertical-align: top;\n",
       "    }\n",
       "\n",
       "    .dataframe thead th {\n",
       "        text-align: right;\n",
       "    }\n",
       "</style>\n",
       "<table border=\"1\" class=\"dataframe\">\n",
       "  <thead>\n",
       "    <tr style=\"text-align: right;\">\n",
       "      <th></th>\n",
       "      <th>LoanNr_ChkDgt</th>\n",
       "      <th>Name</th>\n",
       "      <th>City</th>\n",
       "      <th>State</th>\n",
       "      <th>Zip</th>\n",
       "      <th>Bank</th>\n",
       "      <th>BankState</th>\n",
       "      <th>NAICS</th>\n",
       "      <th>ApprovalDate</th>\n",
       "      <th>ApprovalFY</th>\n",
       "      <th>...</th>\n",
       "      <th>RevLineCr</th>\n",
       "      <th>LowDoc</th>\n",
       "      <th>ChgOffDate</th>\n",
       "      <th>DisbursementDate</th>\n",
       "      <th>DisbursementGross</th>\n",
       "      <th>BalanceGross</th>\n",
       "      <th>MIS_Status</th>\n",
       "      <th>ChgOffPrinGr</th>\n",
       "      <th>GrAppv</th>\n",
       "      <th>SBA_Appv</th>\n",
       "    </tr>\n",
       "  </thead>\n",
       "  <tbody>\n",
       "    <tr>\n",
       "      <th>0</th>\n",
       "      <td>1000014003</td>\n",
       "      <td>ABC HOBBYCRAFT</td>\n",
       "      <td>EVANSVILLE</td>\n",
       "      <td>IN</td>\n",
       "      <td>47711</td>\n",
       "      <td>FIFTH THIRD BANK</td>\n",
       "      <td>OH</td>\n",
       "      <td>451120</td>\n",
       "      <td>1997-02-28</td>\n",
       "      <td>1997</td>\n",
       "      <td>...</td>\n",
       "      <td>N</td>\n",
       "      <td>Y</td>\n",
       "      <td>NaT</td>\n",
       "      <td>1999-02-28</td>\n",
       "      <td>60000.0</td>\n",
       "      <td>0.0</td>\n",
       "      <td>P I F</td>\n",
       "      <td>0.0</td>\n",
       "      <td>60000.0</td>\n",
       "      <td>48000.0</td>\n",
       "    </tr>\n",
       "    <tr>\n",
       "      <th>1</th>\n",
       "      <td>1000024006</td>\n",
       "      <td>LANDMARK BAR &amp; GRILLE (THE)</td>\n",
       "      <td>NEW PARIS</td>\n",
       "      <td>IN</td>\n",
       "      <td>46526</td>\n",
       "      <td>1ST SOURCE BANK</td>\n",
       "      <td>IN</td>\n",
       "      <td>722410</td>\n",
       "      <td>1997-02-28</td>\n",
       "      <td>1997</td>\n",
       "      <td>...</td>\n",
       "      <td>N</td>\n",
       "      <td>Y</td>\n",
       "      <td>NaT</td>\n",
       "      <td>1997-05-31</td>\n",
       "      <td>40000.0</td>\n",
       "      <td>0.0</td>\n",
       "      <td>P I F</td>\n",
       "      <td>0.0</td>\n",
       "      <td>40000.0</td>\n",
       "      <td>32000.0</td>\n",
       "    </tr>\n",
       "    <tr>\n",
       "      <th>2</th>\n",
       "      <td>1000034009</td>\n",
       "      <td>WHITLOCK DDS, TODD M.</td>\n",
       "      <td>BLOOMINGTON</td>\n",
       "      <td>IN</td>\n",
       "      <td>47401</td>\n",
       "      <td>GRANT COUNTY STATE BANK</td>\n",
       "      <td>IN</td>\n",
       "      <td>621210</td>\n",
       "      <td>1997-02-28</td>\n",
       "      <td>1997</td>\n",
       "      <td>...</td>\n",
       "      <td>N</td>\n",
       "      <td>N</td>\n",
       "      <td>NaT</td>\n",
       "      <td>1997-12-31</td>\n",
       "      <td>287000.0</td>\n",
       "      <td>0.0</td>\n",
       "      <td>P I F</td>\n",
       "      <td>0.0</td>\n",
       "      <td>287000.0</td>\n",
       "      <td>215250.0</td>\n",
       "    </tr>\n",
       "    <tr>\n",
       "      <th>3</th>\n",
       "      <td>1000044001</td>\n",
       "      <td>BIG BUCKS PAWN &amp; JEWELRY, LLC</td>\n",
       "      <td>BROKEN ARROW</td>\n",
       "      <td>OK</td>\n",
       "      <td>74012</td>\n",
       "      <td>1ST NATL BK &amp; TR CO OF BROKEN</td>\n",
       "      <td>OK</td>\n",
       "      <td>0</td>\n",
       "      <td>1997-02-28</td>\n",
       "      <td>1997</td>\n",
       "      <td>...</td>\n",
       "      <td>N</td>\n",
       "      <td>Y</td>\n",
       "      <td>NaT</td>\n",
       "      <td>1997-06-30</td>\n",
       "      <td>35000.0</td>\n",
       "      <td>0.0</td>\n",
       "      <td>P I F</td>\n",
       "      <td>0.0</td>\n",
       "      <td>35000.0</td>\n",
       "      <td>28000.0</td>\n",
       "    </tr>\n",
       "    <tr>\n",
       "      <th>4</th>\n",
       "      <td>1000054004</td>\n",
       "      <td>ANASTASIA CONFECTIONS, INC.</td>\n",
       "      <td>ORLANDO</td>\n",
       "      <td>FL</td>\n",
       "      <td>32801</td>\n",
       "      <td>FLORIDA BUS. DEVEL CORP</td>\n",
       "      <td>FL</td>\n",
       "      <td>0</td>\n",
       "      <td>1997-02-28</td>\n",
       "      <td>1997</td>\n",
       "      <td>...</td>\n",
       "      <td>N</td>\n",
       "      <td>N</td>\n",
       "      <td>NaT</td>\n",
       "      <td>1997-05-14</td>\n",
       "      <td>229000.0</td>\n",
       "      <td>0.0</td>\n",
       "      <td>P I F</td>\n",
       "      <td>0.0</td>\n",
       "      <td>229000.0</td>\n",
       "      <td>229000.0</td>\n",
       "    </tr>\n",
       "  </tbody>\n",
       "</table>\n",
       "<p>5 rows × 27 columns</p>\n",
       "</div>"
      ],
      "text/plain": [
       "   LoanNr_ChkDgt                           Name          City State    Zip  \\\n",
       "0     1000014003                 ABC HOBBYCRAFT    EVANSVILLE    IN  47711   \n",
       "1     1000024006    LANDMARK BAR & GRILLE (THE)     NEW PARIS    IN  46526   \n",
       "2     1000034009          WHITLOCK DDS, TODD M.   BLOOMINGTON    IN  47401   \n",
       "3     1000044001  BIG BUCKS PAWN & JEWELRY, LLC  BROKEN ARROW    OK  74012   \n",
       "4     1000054004    ANASTASIA CONFECTIONS, INC.       ORLANDO    FL  32801   \n",
       "\n",
       "                            Bank BankState   NAICS ApprovalDate ApprovalFY  \\\n",
       "0               FIFTH THIRD BANK        OH  451120   1997-02-28       1997   \n",
       "1                1ST SOURCE BANK        IN  722410   1997-02-28       1997   \n",
       "2        GRANT COUNTY STATE BANK        IN  621210   1997-02-28       1997   \n",
       "3  1ST NATL BK & TR CO OF BROKEN        OK       0   1997-02-28       1997   \n",
       "4        FLORIDA BUS. DEVEL CORP        FL       0   1997-02-28       1997   \n",
       "\n",
       "   ...  RevLineCr  LowDoc  ChgOffDate  DisbursementDate  DisbursementGross  \\\n",
       "0  ...          N       Y         NaT        1999-02-28            60000.0   \n",
       "1  ...          N       Y         NaT        1997-05-31            40000.0   \n",
       "2  ...          N       N         NaT        1997-12-31           287000.0   \n",
       "3  ...          N       Y         NaT        1997-06-30            35000.0   \n",
       "4  ...          N       N         NaT        1997-05-14           229000.0   \n",
       "\n",
       "   BalanceGross  MIS_Status ChgOffPrinGr    GrAppv  SBA_Appv  \n",
       "0           0.0       P I F          0.0   60000.0   48000.0  \n",
       "1           0.0       P I F          0.0   40000.0   32000.0  \n",
       "2           0.0       P I F          0.0  287000.0  215250.0  \n",
       "3           0.0       P I F          0.0   35000.0   28000.0  \n",
       "4           0.0       P I F          0.0  229000.0  229000.0  \n",
       "\n",
       "[5 rows x 27 columns]"
      ]
     },
     "execution_count": 2,
     "metadata": {},
     "output_type": "execute_result"
    }
   ],
   "source": [
    "df = pd.read_csv('SBAnational.csv', parse_dates = [8, 19, 20])\n",
    "df['GrAppv'] = df['GrAppv'].replace({'\\$' : '', ',' : ''}, regex = True).astype(float)\n",
    "df['SBA_Appv'] = df['SBA_Appv'].replace({'\\$' : '', ',' : ''}, regex = True).astype(float)\n",
    "df['ChgOffPrinGr'] = df['ChgOffPrinGr'].replace({'\\$' : '', ',' : ''}, regex = True).astype(float)\n",
    "df['DisbursementGross'] = df['DisbursementGross'].replace({'\\$' : '', ',' : ''}, regex = True).astype(float)\n",
    "df['BalanceGross'] = df['BalanceGross'].replace({'\\$' : '', ',' : ''}, regex = True).astype(float)\n",
    "\n",
    "df.head()"
   ]
  },
  {
   "cell_type": "markdown",
   "metadata": {},
   "source": [
    "### List of Columns and Data Types in Dataset"
   ]
  },
  {
   "cell_type": "code",
   "execution_count": 3,
   "metadata": {},
   "outputs": [
    {
     "data": {
      "text/plain": [
       "LoanNr_ChkDgt                 int64\n",
       "Name                         object\n",
       "City                         object\n",
       "State                        object\n",
       "Zip                           int64\n",
       "Bank                         object\n",
       "BankState                    object\n",
       "NAICS                         int64\n",
       "ApprovalDate         datetime64[ns]\n",
       "ApprovalFY                   object\n",
       "Term                          int64\n",
       "NoEmp                         int64\n",
       "NewExist                    float64\n",
       "CreateJob                     int64\n",
       "RetainedJob                   int64\n",
       "FranchiseCode                 int64\n",
       "UrbanRural                    int64\n",
       "RevLineCr                    object\n",
       "LowDoc                       object\n",
       "ChgOffDate           datetime64[ns]\n",
       "DisbursementDate     datetime64[ns]\n",
       "DisbursementGross           float64\n",
       "BalanceGross                float64\n",
       "MIS_Status                   object\n",
       "ChgOffPrinGr                float64\n",
       "GrAppv                      float64\n",
       "SBA_Appv                    float64\n",
       "dtype: object"
      ]
     },
     "execution_count": 3,
     "metadata": {},
     "output_type": "execute_result"
    }
   ],
   "source": [
    "df.dtypes"
   ]
  },
  {
   "cell_type": "markdown",
   "metadata": {},
   "source": [
    "## Calculated Features"
   ]
  },
  {
   "cell_type": "markdown",
   "metadata": {},
   "source": [
    "Additional features are calculated with the goal of making additional analysis. Some of these features include:\n",
    "- Total Jobs: adds the jobs created and jobs retained to normalize the jobs in cases new jobs were created or existing jobs were retained. \n",
    "- Time to default: to calculate how long it took for a loan to be defaulted to visualize the distribution.\n",
    "- Industry: extract the industry code from the NAICS code for classification purposes.\n",
    "- Franchise: determine if a business is a franchise or not for classification purposes. "
   ]
  },
  {
   "cell_type": "code",
   "execution_count": 4,
   "metadata": {},
   "outputs": [],
   "source": [
    "df['TotalJobs'] = df['CreateJob'] + df['RetainedJob']\n",
    "df['TimeDefault'] = df['ChgOffDate'] - df['DisbursementDate']"
   ]
  },
  {
   "cell_type": "code",
   "execution_count": 5,
   "metadata": {},
   "outputs": [
    {
     "data": {
      "text/plain": [
       "0              NaT\n",
       "1              NaT\n",
       "2              NaT\n",
       "3              NaT\n",
       "4              NaT\n",
       "            ...   \n",
       "899159         NaT\n",
       "899160         NaT\n",
       "899161         NaT\n",
       "899162   1073 days\n",
       "899163         NaT\n",
       "Name: TimeDefault, Length: 899164, dtype: timedelta64[ns]"
      ]
     },
     "execution_count": 5,
     "metadata": {},
     "output_type": "execute_result"
    }
   ],
   "source": [
    "df['TimeDefault']"
   ]
  },
  {
   "cell_type": "code",
   "execution_count": 6,
   "metadata": {},
   "outputs": [],
   "source": [
    "df['Industry'] = df.NAICS.astype(str).str.slice(0, 2)"
   ]
  },
  {
   "cell_type": "code",
   "execution_count": 7,
   "metadata": {},
   "outputs": [],
   "source": [
    "def franchise(row):\n",
    "    if row == 0 or row == 1:\n",
    "        return False\n",
    "    else: \n",
    "        return True"
   ]
  },
  {
   "cell_type": "code",
   "execution_count": 8,
   "metadata": {},
   "outputs": [],
   "source": [
    "df['Franchise'] = df['FranchiseCode'].apply(franchise)"
   ]
  },
  {
   "cell_type": "code",
   "execution_count": 9,
   "metadata": {},
   "outputs": [
    {
     "data": {
      "text/plain": [
       "0         IN\n",
       "1         IN\n",
       "2         IN\n",
       "3         OK\n",
       "4         FL\n",
       "          ..\n",
       "899159    OH\n",
       "899160    OH\n",
       "899161    CA\n",
       "899162    HI\n",
       "899163    HI\n",
       "Name: State, Length: 899164, dtype: object"
      ]
     },
     "execution_count": 9,
     "metadata": {},
     "output_type": "execute_result"
    }
   ],
   "source": [
    "df['State'].fillna(0)"
   ]
  },
  {
   "cell_type": "code",
   "execution_count": 10,
   "metadata": {},
   "outputs": [],
   "source": [
    "def amount_cat (row):\n",
    "    if row < 500000:\n",
    "        return 1\n",
    "    elif row < 1000000:\n",
    "        return 2\n",
    "    elif row < 1500000:\n",
    "        return 3\n",
    "    elif row < 2000000:\n",
    "        return 4\n",
    "    else: \n",
    "        return 5"
   ]
  },
  {
   "cell_type": "code",
   "execution_count": 11,
   "metadata": {},
   "outputs": [],
   "source": [
    "df['z'] = df['GrAppv'].apply(amount_cat)"
   ]
  },
  {
   "cell_type": "code",
   "execution_count": 12,
   "metadata": {},
   "outputs": [
    {
     "data": {
      "text/html": [
       "<div>\n",
       "<style scoped>\n",
       "    .dataframe tbody tr th:only-of-type {\n",
       "        vertical-align: middle;\n",
       "    }\n",
       "\n",
       "    .dataframe tbody tr th {\n",
       "        vertical-align: top;\n",
       "    }\n",
       "\n",
       "    .dataframe thead th {\n",
       "        text-align: right;\n",
       "    }\n",
       "</style>\n",
       "<table border=\"1\" class=\"dataframe\">\n",
       "  <thead>\n",
       "    <tr style=\"text-align: right;\">\n",
       "      <th></th>\n",
       "      <th>LoanNr_ChkDgt</th>\n",
       "      <th>Name</th>\n",
       "      <th>City</th>\n",
       "      <th>State</th>\n",
       "      <th>Zip</th>\n",
       "      <th>Bank</th>\n",
       "      <th>BankState</th>\n",
       "      <th>NAICS</th>\n",
       "      <th>ApprovalDate</th>\n",
       "      <th>ApprovalFY</th>\n",
       "      <th>...</th>\n",
       "      <th>MIS_Status</th>\n",
       "      <th>ChgOffPrinGr</th>\n",
       "      <th>GrAppv</th>\n",
       "      <th>SBA_Appv</th>\n",
       "      <th>TotalJobs</th>\n",
       "      <th>TimeDefault</th>\n",
       "      <th>Industry</th>\n",
       "      <th>Franchise</th>\n",
       "      <th>z</th>\n",
       "      <th>LoanDefaulted</th>\n",
       "    </tr>\n",
       "  </thead>\n",
       "  <tbody>\n",
       "    <tr>\n",
       "      <th>0</th>\n",
       "      <td>1000014003</td>\n",
       "      <td>ABC HOBBYCRAFT</td>\n",
       "      <td>EVANSVILLE</td>\n",
       "      <td>IN</td>\n",
       "      <td>47711</td>\n",
       "      <td>FIFTH THIRD BANK</td>\n",
       "      <td>OH</td>\n",
       "      <td>451120</td>\n",
       "      <td>1997-02-28</td>\n",
       "      <td>1997</td>\n",
       "      <td>...</td>\n",
       "      <td>P I F</td>\n",
       "      <td>0.0</td>\n",
       "      <td>60000.0</td>\n",
       "      <td>48000.0</td>\n",
       "      <td>0</td>\n",
       "      <td>NaT</td>\n",
       "      <td>45</td>\n",
       "      <td>False</td>\n",
       "      <td>1</td>\n",
       "      <td>False</td>\n",
       "    </tr>\n",
       "    <tr>\n",
       "      <th>1</th>\n",
       "      <td>1000024006</td>\n",
       "      <td>LANDMARK BAR &amp; GRILLE (THE)</td>\n",
       "      <td>NEW PARIS</td>\n",
       "      <td>IN</td>\n",
       "      <td>46526</td>\n",
       "      <td>1ST SOURCE BANK</td>\n",
       "      <td>IN</td>\n",
       "      <td>722410</td>\n",
       "      <td>1997-02-28</td>\n",
       "      <td>1997</td>\n",
       "      <td>...</td>\n",
       "      <td>P I F</td>\n",
       "      <td>0.0</td>\n",
       "      <td>40000.0</td>\n",
       "      <td>32000.0</td>\n",
       "      <td>0</td>\n",
       "      <td>NaT</td>\n",
       "      <td>72</td>\n",
       "      <td>False</td>\n",
       "      <td>1</td>\n",
       "      <td>False</td>\n",
       "    </tr>\n",
       "    <tr>\n",
       "      <th>2</th>\n",
       "      <td>1000034009</td>\n",
       "      <td>WHITLOCK DDS, TODD M.</td>\n",
       "      <td>BLOOMINGTON</td>\n",
       "      <td>IN</td>\n",
       "      <td>47401</td>\n",
       "      <td>GRANT COUNTY STATE BANK</td>\n",
       "      <td>IN</td>\n",
       "      <td>621210</td>\n",
       "      <td>1997-02-28</td>\n",
       "      <td>1997</td>\n",
       "      <td>...</td>\n",
       "      <td>P I F</td>\n",
       "      <td>0.0</td>\n",
       "      <td>287000.0</td>\n",
       "      <td>215250.0</td>\n",
       "      <td>0</td>\n",
       "      <td>NaT</td>\n",
       "      <td>62</td>\n",
       "      <td>False</td>\n",
       "      <td>1</td>\n",
       "      <td>False</td>\n",
       "    </tr>\n",
       "    <tr>\n",
       "      <th>3</th>\n",
       "      <td>1000044001</td>\n",
       "      <td>BIG BUCKS PAWN &amp; JEWELRY, LLC</td>\n",
       "      <td>BROKEN ARROW</td>\n",
       "      <td>OK</td>\n",
       "      <td>74012</td>\n",
       "      <td>1ST NATL BK &amp; TR CO OF BROKEN</td>\n",
       "      <td>OK</td>\n",
       "      <td>0</td>\n",
       "      <td>1997-02-28</td>\n",
       "      <td>1997</td>\n",
       "      <td>...</td>\n",
       "      <td>P I F</td>\n",
       "      <td>0.0</td>\n",
       "      <td>35000.0</td>\n",
       "      <td>28000.0</td>\n",
       "      <td>0</td>\n",
       "      <td>NaT</td>\n",
       "      <td>0</td>\n",
       "      <td>False</td>\n",
       "      <td>1</td>\n",
       "      <td>False</td>\n",
       "    </tr>\n",
       "    <tr>\n",
       "      <th>4</th>\n",
       "      <td>1000054004</td>\n",
       "      <td>ANASTASIA CONFECTIONS, INC.</td>\n",
       "      <td>ORLANDO</td>\n",
       "      <td>FL</td>\n",
       "      <td>32801</td>\n",
       "      <td>FLORIDA BUS. DEVEL CORP</td>\n",
       "      <td>FL</td>\n",
       "      <td>0</td>\n",
       "      <td>1997-02-28</td>\n",
       "      <td>1997</td>\n",
       "      <td>...</td>\n",
       "      <td>P I F</td>\n",
       "      <td>0.0</td>\n",
       "      <td>229000.0</td>\n",
       "      <td>229000.0</td>\n",
       "      <td>14</td>\n",
       "      <td>NaT</td>\n",
       "      <td>0</td>\n",
       "      <td>False</td>\n",
       "      <td>1</td>\n",
       "      <td>False</td>\n",
       "    </tr>\n",
       "    <tr>\n",
       "      <th>...</th>\n",
       "      <td>...</td>\n",
       "      <td>...</td>\n",
       "      <td>...</td>\n",
       "      <td>...</td>\n",
       "      <td>...</td>\n",
       "      <td>...</td>\n",
       "      <td>...</td>\n",
       "      <td>...</td>\n",
       "      <td>...</td>\n",
       "      <td>...</td>\n",
       "      <td>...</td>\n",
       "      <td>...</td>\n",
       "      <td>...</td>\n",
       "      <td>...</td>\n",
       "      <td>...</td>\n",
       "      <td>...</td>\n",
       "      <td>...</td>\n",
       "      <td>...</td>\n",
       "      <td>...</td>\n",
       "      <td>...</td>\n",
       "      <td>...</td>\n",
       "    </tr>\n",
       "    <tr>\n",
       "      <th>899159</th>\n",
       "      <td>9995573004</td>\n",
       "      <td>FABRIC FARMS</td>\n",
       "      <td>UPPER ARLINGTON</td>\n",
       "      <td>OH</td>\n",
       "      <td>43221</td>\n",
       "      <td>JPMORGAN CHASE BANK NATL ASSOC</td>\n",
       "      <td>IL</td>\n",
       "      <td>451120</td>\n",
       "      <td>1997-02-27</td>\n",
       "      <td>1997</td>\n",
       "      <td>...</td>\n",
       "      <td>P I F</td>\n",
       "      <td>0.0</td>\n",
       "      <td>70000.0</td>\n",
       "      <td>56000.0</td>\n",
       "      <td>0</td>\n",
       "      <td>NaT</td>\n",
       "      <td>45</td>\n",
       "      <td>False</td>\n",
       "      <td>1</td>\n",
       "      <td>False</td>\n",
       "    </tr>\n",
       "    <tr>\n",
       "      <th>899160</th>\n",
       "      <td>9995603000</td>\n",
       "      <td>FABRIC FARMS</td>\n",
       "      <td>COLUMBUS</td>\n",
       "      <td>OH</td>\n",
       "      <td>43221</td>\n",
       "      <td>JPMORGAN CHASE BANK NATL ASSOC</td>\n",
       "      <td>IL</td>\n",
       "      <td>451130</td>\n",
       "      <td>1997-02-27</td>\n",
       "      <td>1997</td>\n",
       "      <td>...</td>\n",
       "      <td>P I F</td>\n",
       "      <td>0.0</td>\n",
       "      <td>85000.0</td>\n",
       "      <td>42500.0</td>\n",
       "      <td>0</td>\n",
       "      <td>NaT</td>\n",
       "      <td>45</td>\n",
       "      <td>False</td>\n",
       "      <td>1</td>\n",
       "      <td>False</td>\n",
       "    </tr>\n",
       "    <tr>\n",
       "      <th>899161</th>\n",
       "      <td>9995613003</td>\n",
       "      <td>RADCO MANUFACTURING CO.,INC.</td>\n",
       "      <td>SANTA MARIA</td>\n",
       "      <td>CA</td>\n",
       "      <td>93455</td>\n",
       "      <td>RABOBANK, NATIONAL ASSOCIATION</td>\n",
       "      <td>CA</td>\n",
       "      <td>332321</td>\n",
       "      <td>1997-02-27</td>\n",
       "      <td>1997</td>\n",
       "      <td>...</td>\n",
       "      <td>P I F</td>\n",
       "      <td>0.0</td>\n",
       "      <td>300000.0</td>\n",
       "      <td>225000.0</td>\n",
       "      <td>0</td>\n",
       "      <td>NaT</td>\n",
       "      <td>33</td>\n",
       "      <td>False</td>\n",
       "      <td>1</td>\n",
       "      <td>False</td>\n",
       "    </tr>\n",
       "    <tr>\n",
       "      <th>899162</th>\n",
       "      <td>9995973006</td>\n",
       "      <td>MARUTAMA HAWAII, INC.</td>\n",
       "      <td>HONOLULU</td>\n",
       "      <td>HI</td>\n",
       "      <td>96830</td>\n",
       "      <td>BANK OF HAWAII</td>\n",
       "      <td>HI</td>\n",
       "      <td>0</td>\n",
       "      <td>1997-02-27</td>\n",
       "      <td>1997</td>\n",
       "      <td>...</td>\n",
       "      <td>CHGOFF</td>\n",
       "      <td>46383.0</td>\n",
       "      <td>75000.0</td>\n",
       "      <td>60000.0</td>\n",
       "      <td>0</td>\n",
       "      <td>1073 days</td>\n",
       "      <td>0</td>\n",
       "      <td>False</td>\n",
       "      <td>1</td>\n",
       "      <td>True</td>\n",
       "    </tr>\n",
       "    <tr>\n",
       "      <th>899163</th>\n",
       "      <td>9996003010</td>\n",
       "      <td>PACIFIC TRADEWINDS FAN &amp; LIGHT</td>\n",
       "      <td>KAILUA</td>\n",
       "      <td>HI</td>\n",
       "      <td>96734</td>\n",
       "      <td>CENTRAL PACIFIC BANK</td>\n",
       "      <td>HI</td>\n",
       "      <td>0</td>\n",
       "      <td>1997-02-27</td>\n",
       "      <td>1997</td>\n",
       "      <td>...</td>\n",
       "      <td>P I F</td>\n",
       "      <td>0.0</td>\n",
       "      <td>30000.0</td>\n",
       "      <td>24000.0</td>\n",
       "      <td>0</td>\n",
       "      <td>NaT</td>\n",
       "      <td>0</td>\n",
       "      <td>False</td>\n",
       "      <td>1</td>\n",
       "      <td>False</td>\n",
       "    </tr>\n",
       "  </tbody>\n",
       "</table>\n",
       "<p>899164 rows × 33 columns</p>\n",
       "</div>"
      ],
      "text/plain": [
       "        LoanNr_ChkDgt                            Name             City State  \\\n",
       "0          1000014003                  ABC HOBBYCRAFT       EVANSVILLE    IN   \n",
       "1          1000024006     LANDMARK BAR & GRILLE (THE)        NEW PARIS    IN   \n",
       "2          1000034009           WHITLOCK DDS, TODD M.      BLOOMINGTON    IN   \n",
       "3          1000044001   BIG BUCKS PAWN & JEWELRY, LLC     BROKEN ARROW    OK   \n",
       "4          1000054004     ANASTASIA CONFECTIONS, INC.          ORLANDO    FL   \n",
       "...               ...                             ...              ...   ...   \n",
       "899159     9995573004                    FABRIC FARMS  UPPER ARLINGTON    OH   \n",
       "899160     9995603000                    FABRIC FARMS         COLUMBUS    OH   \n",
       "899161     9995613003    RADCO MANUFACTURING CO.,INC.      SANTA MARIA    CA   \n",
       "899162     9995973006           MARUTAMA HAWAII, INC.         HONOLULU    HI   \n",
       "899163     9996003010  PACIFIC TRADEWINDS FAN & LIGHT           KAILUA    HI   \n",
       "\n",
       "          Zip                            Bank BankState   NAICS ApprovalDate  \\\n",
       "0       47711                FIFTH THIRD BANK        OH  451120   1997-02-28   \n",
       "1       46526                 1ST SOURCE BANK        IN  722410   1997-02-28   \n",
       "2       47401         GRANT COUNTY STATE BANK        IN  621210   1997-02-28   \n",
       "3       74012   1ST NATL BK & TR CO OF BROKEN        OK       0   1997-02-28   \n",
       "4       32801         FLORIDA BUS. DEVEL CORP        FL       0   1997-02-28   \n",
       "...       ...                             ...       ...     ...          ...   \n",
       "899159  43221  JPMORGAN CHASE BANK NATL ASSOC        IL  451120   1997-02-27   \n",
       "899160  43221  JPMORGAN CHASE BANK NATL ASSOC        IL  451130   1997-02-27   \n",
       "899161  93455  RABOBANK, NATIONAL ASSOCIATION        CA  332321   1997-02-27   \n",
       "899162  96830                  BANK OF HAWAII        HI       0   1997-02-27   \n",
       "899163  96734            CENTRAL PACIFIC BANK        HI       0   1997-02-27   \n",
       "\n",
       "       ApprovalFY  ...  MIS_Status  ChgOffPrinGr    GrAppv  SBA_Appv  \\\n",
       "0            1997  ...       P I F           0.0   60000.0   48000.0   \n",
       "1            1997  ...       P I F           0.0   40000.0   32000.0   \n",
       "2            1997  ...       P I F           0.0  287000.0  215250.0   \n",
       "3            1997  ...       P I F           0.0   35000.0   28000.0   \n",
       "4            1997  ...       P I F           0.0  229000.0  229000.0   \n",
       "...           ...  ...         ...           ...       ...       ...   \n",
       "899159       1997  ...       P I F           0.0   70000.0   56000.0   \n",
       "899160       1997  ...       P I F           0.0   85000.0   42500.0   \n",
       "899161       1997  ...       P I F           0.0  300000.0  225000.0   \n",
       "899162       1997  ...      CHGOFF       46383.0   75000.0   60000.0   \n",
       "899163       1997  ...       P I F           0.0   30000.0   24000.0   \n",
       "\n",
       "        TotalJobs  TimeDefault  Industry Franchise  z LoanDefaulted  \n",
       "0               0          NaT        45     False  1         False  \n",
       "1               0          NaT        72     False  1         False  \n",
       "2               0          NaT        62     False  1         False  \n",
       "3               0          NaT         0     False  1         False  \n",
       "4              14          NaT         0     False  1         False  \n",
       "...           ...          ...       ...       ... ..           ...  \n",
       "899159          0          NaT        45     False  1         False  \n",
       "899160          0          NaT        45     False  1         False  \n",
       "899161          0          NaT        33     False  1         False  \n",
       "899162          0    1073 days         0     False  1          True  \n",
       "899163          0          NaT         0     False  1         False  \n",
       "\n",
       "[899164 rows x 33 columns]"
      ]
     },
     "execution_count": 12,
     "metadata": {},
     "output_type": "execute_result"
    }
   ],
   "source": [
    "df['LoanDefaulted'] = df.ChgOffDate.notnull()\n",
    "df"
   ]
  },
  {
   "cell_type": "code",
   "execution_count": 13,
   "metadata": {},
   "outputs": [],
   "source": [
    "df['NewExist'] = df['NewExist'].fillna(0)"
   ]
  },
  {
   "cell_type": "markdown",
   "metadata": {},
   "source": [
    "## Statistics around Defaults"
   ]
  },
  {
   "cell_type": "markdown",
   "metadata": {},
   "source": [
    "This section contains some general statistics around defaulted loans for exploratory purposes:\n",
    "- Count\n",
    "- Mean \n",
    "- Standard Deviation\n",
    "- Min Value\n",
    "- Max Value\n",
    "- 25% Percentile\n",
    "- 50% Percentile\n",
    "- 75% Percentile"
   ]
  },
  {
   "cell_type": "markdown",
   "metadata": {},
   "source": [
    "### Loan Amount"
   ]
  },
  {
   "cell_type": "code",
   "execution_count": 14,
   "metadata": {},
   "outputs": [
    {
     "data": {
      "text/plain": [
       "count    8.991640e+05\n",
       "mean     1.926870e+05\n",
       "std      2.832634e+05\n",
       "min      2.000000e+02\n",
       "25%      3.500000e+04\n",
       "50%      9.000000e+04\n",
       "75%      2.250000e+05\n",
       "max      5.472000e+06\n",
       "Name: GrAppv, dtype: float64"
      ]
     },
     "execution_count": 14,
     "metadata": {},
     "output_type": "execute_result"
    }
   ],
   "source": [
    "df['GrAppv'].describe()"
   ]
  },
  {
   "cell_type": "code",
   "execution_count": 15,
   "metadata": {},
   "outputs": [
    {
     "data": {
      "text/plain": [
       "<seaborn.axisgrid.FacetGrid at 0x7fda2b26aa60>"
      ]
     },
     "execution_count": 15,
     "metadata": {},
     "output_type": "execute_result"
    },
    {
     "data": {
      "image/png": "[encoded data removed]",
      "text/plain": [
       "<Figure size 360x360 with 1 Axes>"
      ]
     },
     "metadata": {
      "needs_background": "light"
     },
     "output_type": "display_data"
    }
   ],
   "source": [
    "loan_hist = sns.displot(df['GrAppv'], kde = True)\n",
    "loan_hist.set(xlim=(0, 3e06), xlabel = 'Gross Loan Amount', title = 'Histogram and Distribution of Gross Loan Amount')\n",
    "# loan_hist.set_xlabel('Gross Loan Amount')\n",
    "# loan_hist.set_title('Histogram and Distribution of Gross Loan Amount')\n",
    "loan_hist"
   ]
  },
  {
   "cell_type": "markdown",
   "metadata": {},
   "source": [
    "The Distribution of the loan amounts is right skewed; where smaller loans are more prevalent. "
   ]
  },
  {
   "cell_type": "markdown",
   "metadata": {},
   "source": [
    "### Total Jobs"
   ]
  },
  {
   "cell_type": "code",
   "execution_count": 16,
   "metadata": {},
   "outputs": [
    {
     "data": {
      "text/plain": [
       "count    899164.000000\n",
       "mean         19.227634\n",
       "std         473.091942\n",
       "min           0.000000\n",
       "25%           0.000000\n",
       "50%           2.000000\n",
       "75%           6.000000\n",
       "max       17600.000000\n",
       "Name: TotalJobs, dtype: float64"
      ]
     },
     "execution_count": 16,
     "metadata": {},
     "output_type": "execute_result"
    }
   ],
   "source": [
    "df['TotalJobs'].describe()"
   ]
  },
  {
   "cell_type": "markdown",
   "metadata": {},
   "source": [
    "### Time to Default"
   ]
  },
  {
   "cell_type": "code",
   "execution_count": 17,
   "metadata": {},
   "outputs": [
    {
     "data": {
      "text/plain": [
       "count                          162289\n",
       "mean     1575 days 11:20:04.007664560\n",
       "std       942 days 19:34:59.961704480\n",
       "min             -29661 days +00:00:00\n",
       "25%                 961 days 00:00:00\n",
       "50%                1414 days 00:00:00\n",
       "75%                2003 days 00:00:00\n",
       "max               11952 days 00:00:00\n",
       "Name: TimeDefault, dtype: object"
      ]
     },
     "execution_count": 17,
     "metadata": {},
     "output_type": "execute_result"
    }
   ],
   "source": [
    "df['TimeDefault'].describe()"
   ]
  },
  {
   "cell_type": "code",
   "execution_count": 18,
   "metadata": {},
   "outputs": [
    {
     "data": {
      "text/plain": [
       "<seaborn.axisgrid.FacetGrid at 0x7fda2b26adf0>"
      ]
     },
     "execution_count": 18,
     "metadata": {},
     "output_type": "execute_result"
    },
    {
     "data": {
      "image/png": "[encoded data removed]",
      "text/plain": [
       "<Figure size 360x360 with 1 Axes>"
      ]
     },
     "metadata": {
      "needs_background": "light"
     },
     "output_type": "display_data"
    }
   ],
   "source": [
    "default_hist = sns.displot(df[df.TimeDefault.notnull()]['TimeDefault'].dt.days, kde = True)\n",
    "default_hist.set(ylim=(0, 6000), xlim=(0, 12000), xlabel = 'Time to Default (days)', title = 'Histogram and Distribution of Time to Default')\n",
    "# loan_hist.set_xlabel('Gross Loan Amount')\n",
    "# loan_hist.set_title('Histogram and Distribution of Gross Loan Amount')\n",
    "default_hist"
   ]
  },
  {
   "cell_type": "markdown",
   "metadata": {},
   "source": [
    "Time to default is slightly right-skewed. "
   ]
  },
  {
   "cell_type": "markdown",
   "metadata": {},
   "source": [
    "### Percentage Charge-off"
   ]
  },
  {
   "cell_type": "code",
   "execution_count": 19,
   "metadata": {},
   "outputs": [
    {
     "data": {
      "text/plain": [
       "count    162699.000000\n",
       "mean         73.245413\n",
       "std          26.490728\n",
       "min           0.000000\n",
       "25%          56.912250\n",
       "50%          81.325900\n",
       "75%          95.704000\n",
       "max         897.920000\n",
       "dtype: float64"
      ]
     },
     "execution_count": 19,
     "metadata": {},
     "output_type": "execute_result"
    }
   ],
   "source": [
    "chgoff_percent = df['ChgOffPrinGr'].loc[df['LoanDefaulted'] == True] / df['GrAppv'] * 100\n",
    "chgoff_percent.describe()"
   ]
  },
  {
   "cell_type": "code",
   "execution_count": 20,
   "metadata": {},
   "outputs": [
    {
     "data": {
      "text/plain": [
       "<seaborn.axisgrid.FacetGrid at 0x7fda0f69bf40>"
      ]
     },
     "execution_count": 20,
     "metadata": {},
     "output_type": "execute_result"
    },
    {
     "data": {
      "image/png": "[encoded data removed]",
      "text/plain": [
       "<Figure size 360x360 with 1 Axes>"
      ]
     },
     "metadata": {
      "needs_background": "light"
     },
     "output_type": "display_data"
    }
   ],
   "source": [
    "chgoff_hist = sns.displot(x = chgoff_percent, kde = True)\n",
    "chgoff_hist.set(xlim = (0, 120), xlabel = 'Percentage Charge-off', title = 'Histogram and Distribution of Charge-off Percentage')\n",
    "chgoff_hist"
   ]
  },
  {
   "cell_type": "markdown",
   "metadata": {},
   "source": [
    "The distribution of charge-off percentage for defaulted loans is left-skewed; with a mean lower than the median. "
   ]
  },
  {
   "cell_type": "markdown",
   "metadata": {},
   "source": [
    "## Visualizations"
   ]
  },
  {
   "cell_type": "markdown",
   "metadata": {},
   "source": [
    "### Total Jobs vs Loan Amount"
   ]
  },
  {
   "cell_type": "markdown",
   "metadata": {},
   "source": [
    "This section explores if the loan amount influences the jobs created. To exclude outliers, considering the distribution, only jobs in the bottom 95% were considered. "
   ]
  },
  {
   "cell_type": "code",
   "execution_count": 21,
   "metadata": {},
   "outputs": [
    {
     "data": {
      "text/plain": [
       "27.0"
      ]
     },
     "execution_count": 21,
     "metadata": {},
     "output_type": "execute_result"
    }
   ],
   "source": [
    "df.TotalJobs.quantile(0.95)"
   ]
  },
  {
   "cell_type": "code",
   "execution_count": 22,
   "metadata": {},
   "outputs": [
    {
     "data": {
      "text/plain": [
       "<seaborn.axisgrid.FacetGrid at 0x7fda2b26a370>"
      ]
     },
     "execution_count": 22,
     "metadata": {},
     "output_type": "execute_result"
    },
    {
     "data": {
      "image/png": "[encoded data removed]",
      "text/plain": [
       "<Figure size 402.375x360 with 1 Axes>"
      ]
     },
     "metadata": {
      "needs_background": "light"
     },
     "output_type": "display_data"
    }
   ],
   "source": [
    "df_no_outliers = df.loc[df['TotalJobs'] < 27]\n",
    "multi_hist = sns.displot(data=df_no_outliers, x=df_no_outliers['GrAppv'], y=df_no_outliers['TotalJobs'], hue = df_no_outliers['z'])\n",
    "multi_hist.set(ylim=(0, 30), title = 'Histogram and Distribution of Time to Default')\n",
    "multi_hist"
   ]
  },
  {
   "cell_type": "markdown",
   "metadata": {},
   "source": [
    "The loan amount does not seem to influence the number of jobs created/retained. Therefore it may make more sense to issue many small loans as opposed to few large loans. "
   ]
  },
  {
   "cell_type": "markdown",
   "metadata": {},
   "source": [
    "### Loans issued by State"
   ]
  },
  {
   "cell_type": "markdown",
   "metadata": {},
   "source": [
    "This section explores the total loan amounts by state"
   ]
  },
  {
   "cell_type": "code",
   "execution_count": 23,
   "metadata": {},
   "outputs": [],
   "source": [
    "df1 = df.groupby('State').agg({'GrAppv': sum})"
   ]
  },
  {
   "cell_type": "code",
   "execution_count": 24,
   "metadata": {},
   "outputs": [],
   "source": [
    "states = gpd.read_file('cb_2018_us_state_500k.shp')\n",
    "states.rename(columns = {'STUSPS':'State'}, inplace = True)"
   ]
  },
  {
   "cell_type": "code",
   "execution_count": 25,
   "metadata": {},
   "outputs": [],
   "source": [
    "states_map_loans = states.merge(df1, on = 'State')"
   ]
  },
  {
   "cell_type": "code",
   "execution_count": 26,
   "metadata": {},
   "outputs": [
    {
     "data": {
      "text/html": [
       "<div>\n",
       "<style scoped>\n",
       "    .dataframe tbody tr th:only-of-type {\n",
       "        vertical-align: middle;\n",
       "    }\n",
       "\n",
       "    .dataframe tbody tr th {\n",
       "        vertical-align: top;\n",
       "    }\n",
       "\n",
       "    .dataframe thead th {\n",
       "        text-align: right;\n",
       "    }\n",
       "</style>\n",
       "<table border=\"1\" class=\"dataframe\">\n",
       "  <thead>\n",
       "    <tr style=\"text-align: right;\">\n",
       "      <th></th>\n",
       "      <th>STATEFP</th>\n",
       "      <th>STATENS</th>\n",
       "      <th>AFFGEOID</th>\n",
       "      <th>GEOID</th>\n",
       "      <th>State</th>\n",
       "      <th>NAME</th>\n",
       "      <th>LSAD</th>\n",
       "      <th>ALAND</th>\n",
       "      <th>AWATER</th>\n",
       "      <th>geometry</th>\n",
       "      <th>GrAppv</th>\n",
       "    </tr>\n",
       "  </thead>\n",
       "  <tbody>\n",
       "    <tr>\n",
       "      <th>35</th>\n",
       "      <td>11</td>\n",
       "      <td>01702382</td>\n",
       "      <td>0400000US11</td>\n",
       "      <td>11</td>\n",
       "      <td>DC</td>\n",
       "      <td>District of Columbia</td>\n",
       "      <td>00</td>\n",
       "      <td>158340391</td>\n",
       "      <td>18687198</td>\n",
       "      <td>POLYGON ((-77.11976 38.93434, -77.11253 38.940...</td>\n",
       "      <td>2.462230e+08</td>\n",
       "    </tr>\n",
       "    <tr>\n",
       "      <th>40</th>\n",
       "      <td>10</td>\n",
       "      <td>01779781</td>\n",
       "      <td>0400000US10</td>\n",
       "      <td>10</td>\n",
       "      <td>DE</td>\n",
       "      <td>Delaware</td>\n",
       "      <td>00</td>\n",
       "      <td>5045925646</td>\n",
       "      <td>1399985648</td>\n",
       "      <td>MULTIPOLYGON (((-75.56555 39.51485, -75.56174 ...</td>\n",
       "      <td>3.186187e+08</td>\n",
       "    </tr>\n",
       "    <tr>\n",
       "      <th>39</th>\n",
       "      <td>15</td>\n",
       "      <td>01779782</td>\n",
       "      <td>0400000US15</td>\n",
       "      <td>15</td>\n",
       "      <td>HI</td>\n",
       "      <td>Hawaii</td>\n",
       "      <td>00</td>\n",
       "      <td>16633990195</td>\n",
       "      <td>11777809026</td>\n",
       "      <td>MULTIPOLYGON (((-156.06076 19.73055, -156.0566...</td>\n",
       "      <td>4.451825e+08</td>\n",
       "    </tr>\n",
       "    <tr>\n",
       "      <th>23</th>\n",
       "      <td>56</td>\n",
       "      <td>01779807</td>\n",
       "      <td>0400000US56</td>\n",
       "      <td>56</td>\n",
       "      <td>WY</td>\n",
       "      <td>Wyoming</td>\n",
       "      <td>00</td>\n",
       "      <td>251458544898</td>\n",
       "      <td>1867670745</td>\n",
       "      <td>POLYGON ((-111.05456 45.00095, -111.04507 45.0...</td>\n",
       "      <td>4.940757e+08</td>\n",
       "    </tr>\n",
       "    <tr>\n",
       "      <th>4</th>\n",
       "      <td>54</td>\n",
       "      <td>01779805</td>\n",
       "      <td>0400000US54</td>\n",
       "      <td>54</td>\n",
       "      <td>WV</td>\n",
       "      <td>West Virginia</td>\n",
       "      <td>00</td>\n",
       "      <td>62266474513</td>\n",
       "      <td>489028543</td>\n",
       "      <td>POLYGON ((-82.64320 38.16909, -82.64300 38.169...</td>\n",
       "      <td>4.959768e+08</td>\n",
       "    </tr>\n",
       "    <tr>\n",
       "      <th>26</th>\n",
       "      <td>02</td>\n",
       "      <td>01785533</td>\n",
       "      <td>0400000US02</td>\n",
       "      <td>02</td>\n",
       "      <td>AK</td>\n",
       "      <td>Alaska</td>\n",
       "      <td>00</td>\n",
       "      <td>1478839695958</td>\n",
       "      <td>245481577452</td>\n",
       "      <td>MULTIPOLYGON (((179.48246 51.98283, 179.48656 ...</td>\n",
       "      <td>5.111215e+08</td>\n",
       "    </tr>\n",
       "    <tr>\n",
       "      <th>13</th>\n",
       "      <td>46</td>\n",
       "      <td>01785534</td>\n",
       "      <td>0400000US46</td>\n",
       "      <td>46</td>\n",
       "      <td>SD</td>\n",
       "      <td>South Dakota</td>\n",
       "      <td>00</td>\n",
       "      <td>196346981786</td>\n",
       "      <td>3382720225</td>\n",
       "      <td>POLYGON ((-104.05788 44.99761, -104.05078 44.9...</td>\n",
       "      <td>7.124238e+08</td>\n",
       "    </tr>\n",
       "    <tr>\n",
       "      <th>29</th>\n",
       "      <td>50</td>\n",
       "      <td>01779802</td>\n",
       "      <td>0400000US50</td>\n",
       "      <td>50</td>\n",
       "      <td>VT</td>\n",
       "      <td>Vermont</td>\n",
       "      <td>00</td>\n",
       "      <td>23874175944</td>\n",
       "      <td>1030416650</td>\n",
       "      <td>POLYGON ((-73.43774 44.04501, -73.43199 44.063...</td>\n",
       "      <td>7.924957e+08</td>\n",
       "    </tr>\n",
       "    <tr>\n",
       "      <th>38</th>\n",
       "      <td>23</td>\n",
       "      <td>01779787</td>\n",
       "      <td>0400000US23</td>\n",
       "      <td>23</td>\n",
       "      <td>ME</td>\n",
       "      <td>Maine</td>\n",
       "      <td>00</td>\n",
       "      <td>79887426037</td>\n",
       "      <td>11746549764</td>\n",
       "      <td>MULTIPOLYGON (((-67.35580 44.64226, -67.35437 ...</td>\n",
       "      <td>8.399876e+08</td>\n",
       "    </tr>\n",
       "    <tr>\n",
       "      <th>46</th>\n",
       "      <td>38</td>\n",
       "      <td>01779797</td>\n",
       "      <td>0400000US38</td>\n",
       "      <td>38</td>\n",
       "      <td>ND</td>\n",
       "      <td>North Dakota</td>\n",
       "      <td>00</td>\n",
       "      <td>178707534813</td>\n",
       "      <td>4403267548</td>\n",
       "      <td>POLYGON ((-104.04868 48.86378, -104.04865 48.8...</td>\n",
       "      <td>8.802879e+08</td>\n",
       "    </tr>\n",
       "    <tr>\n",
       "      <th>10</th>\n",
       "      <td>31</td>\n",
       "      <td>01779792</td>\n",
       "      <td>0400000US31</td>\n",
       "      <td>31</td>\n",
       "      <td>NE</td>\n",
       "      <td>Nebraska</td>\n",
       "      <td>00</td>\n",
       "      <td>198956658395</td>\n",
       "      <td>1371829134</td>\n",
       "      <td>POLYGON ((-104.05342 41.17054, -104.05324 41.1...</td>\n",
       "      <td>1.022229e+09</td>\n",
       "    </tr>\n",
       "    <tr>\n",
       "      <th>41</th>\n",
       "      <td>44</td>\n",
       "      <td>01219835</td>\n",
       "      <td>0400000US44</td>\n",
       "      <td>44</td>\n",
       "      <td>RI</td>\n",
       "      <td>Rhode Island</td>\n",
       "      <td>00</td>\n",
       "      <td>2677779902</td>\n",
       "      <td>1323670487</td>\n",
       "      <td>MULTIPOLYGON (((-71.28802 41.64558, -71.28647 ...</td>\n",
       "      <td>1.105269e+09</td>\n",
       "    </tr>\n",
       "    <tr>\n",
       "      <th>12</th>\n",
       "      <td>35</td>\n",
       "      <td>00897535</td>\n",
       "      <td>0400000US35</td>\n",
       "      <td>35</td>\n",
       "      <td>NM</td>\n",
       "      <td>New Mexico</td>\n",
       "      <td>00</td>\n",
       "      <td>314196306401</td>\n",
       "      <td>728776523</td>\n",
       "      <td>POLYGON ((-109.05017 31.48000, -109.04984 31.4...</td>\n",
       "      <td>1.140375e+09</td>\n",
       "    </tr>\n",
       "    <tr>\n",
       "      <th>47</th>\n",
       "      <td>05</td>\n",
       "      <td>00068085</td>\n",
       "      <td>0400000US05</td>\n",
       "      <td>05</td>\n",
       "      <td>AR</td>\n",
       "      <td>Arkansas</td>\n",
       "      <td>00</td>\n",
       "      <td>134768872727</td>\n",
       "      <td>2962859592</td>\n",
       "      <td>POLYGON ((-94.61783 36.49941, -94.61765 36.499...</td>\n",
       "      <td>1.176001e+09</td>\n",
       "    </tr>\n",
       "    <tr>\n",
       "      <th>32</th>\n",
       "      <td>45</td>\n",
       "      <td>01779799</td>\n",
       "      <td>0400000US45</td>\n",
       "      <td>45</td>\n",
       "      <td>SC</td>\n",
       "      <td>South Carolina</td>\n",
       "      <td>00</td>\n",
       "      <td>77864918488</td>\n",
       "      <td>5075218778</td>\n",
       "      <td>MULTIPOLYGON (((-79.50795 33.02008, -79.50713 ...</td>\n",
       "      <td>1.235821e+09</td>\n",
       "    </tr>\n",
       "    <tr>\n",
       "      <th>42</th>\n",
       "      <td>21</td>\n",
       "      <td>01779786</td>\n",
       "      <td>0400000US21</td>\n",
       "      <td>21</td>\n",
       "      <td>KY</td>\n",
       "      <td>Kentucky</td>\n",
       "      <td>00</td>\n",
       "      <td>102279490672</td>\n",
       "      <td>2375337755</td>\n",
       "      <td>MULTIPOLYGON (((-89.40565 36.52817, -89.39869 ...</td>\n",
       "      <td>1.279067e+09</td>\n",
       "    </tr>\n",
       "    <tr>\n",
       "      <th>30</th>\n",
       "      <td>30</td>\n",
       "      <td>00767982</td>\n",
       "      <td>0400000US30</td>\n",
       "      <td>30</td>\n",
       "      <td>MT</td>\n",
       "      <td>Montana</td>\n",
       "      <td>00</td>\n",
       "      <td>376962738765</td>\n",
       "      <td>3869208832</td>\n",
       "      <td>POLYGON ((-116.04914 48.50205, -116.04913 48.5...</td>\n",
       "      <td>1.374350e+09</td>\n",
       "    </tr>\n",
       "    <tr>\n",
       "      <th>8</th>\n",
       "      <td>16</td>\n",
       "      <td>01779783</td>\n",
       "      <td>0400000US16</td>\n",
       "      <td>16</td>\n",
       "      <td>ID</td>\n",
       "      <td>Idaho</td>\n",
       "      <td>00</td>\n",
       "      <td>214049787659</td>\n",
       "      <td>2391722557</td>\n",
       "      <td>POLYGON ((-117.24267 44.39655, -117.23484 44.3...</td>\n",
       "      <td>1.499636e+09</td>\n",
       "    </tr>\n",
       "    <tr>\n",
       "      <th>0</th>\n",
       "      <td>28</td>\n",
       "      <td>01779790</td>\n",
       "      <td>0400000US28</td>\n",
       "      <td>28</td>\n",
       "      <td>MS</td>\n",
       "      <td>Mississippi</td>\n",
       "      <td>00</td>\n",
       "      <td>121533519481</td>\n",
       "      <td>3926919758</td>\n",
       "      <td>MULTIPOLYGON (((-88.50297 30.21523, -88.49176 ...</td>\n",
       "      <td>1.509448e+09</td>\n",
       "    </tr>\n",
       "    <tr>\n",
       "      <th>33</th>\n",
       "      <td>33</td>\n",
       "      <td>01779794</td>\n",
       "      <td>0400000US33</td>\n",
       "      <td>33</td>\n",
       "      <td>NH</td>\n",
       "      <td>New Hampshire</td>\n",
       "      <td>00</td>\n",
       "      <td>23189413166</td>\n",
       "      <td>1026675248</td>\n",
       "      <td>MULTIPOLYGON (((-70.61702 42.97718, -70.61529 ...</td>\n",
       "      <td>1.532731e+09</td>\n",
       "    </tr>\n",
       "    <tr>\n",
       "      <th>5</th>\n",
       "      <td>22</td>\n",
       "      <td>01629543</td>\n",
       "      <td>0400000US22</td>\n",
       "      <td>22</td>\n",
       "      <td>LA</td>\n",
       "      <td>Louisiana</td>\n",
       "      <td>00</td>\n",
       "      <td>111897594374</td>\n",
       "      <td>23753621895</td>\n",
       "      <td>MULTIPOLYGON (((-88.86770 29.86155, -88.86566 ...</td>\n",
       "      <td>1.651189e+09</td>\n",
       "    </tr>\n",
       "    <tr>\n",
       "      <th>27</th>\n",
       "      <td>32</td>\n",
       "      <td>01779793</td>\n",
       "      <td>0400000US32</td>\n",
       "      <td>32</td>\n",
       "      <td>NV</td>\n",
       "      <td>Nevada</td>\n",
       "      <td>00</td>\n",
       "      <td>284329506470</td>\n",
       "      <td>2047206072</td>\n",
       "      <td>POLYGON ((-120.00574 39.22866, -120.00559 39.2...</td>\n",
       "      <td>1.736167e+09</td>\n",
       "    </tr>\n",
       "    <tr>\n",
       "      <th>16</th>\n",
       "      <td>01</td>\n",
       "      <td>01779775</td>\n",
       "      <td>0400000US01</td>\n",
       "      <td>01</td>\n",
       "      <td>AL</td>\n",
       "      <td>Alabama</td>\n",
       "      <td>00</td>\n",
       "      <td>131174048583</td>\n",
       "      <td>4593327154</td>\n",
       "      <td>MULTIPOLYGON (((-88.05338 30.50699, -88.05109 ...</td>\n",
       "      <td>1.827131e+09</td>\n",
       "    </tr>\n",
       "    <tr>\n",
       "      <th>25</th>\n",
       "      <td>20</td>\n",
       "      <td>00481813</td>\n",
       "      <td>0400000US20</td>\n",
       "      <td>20</td>\n",
       "      <td>KS</td>\n",
       "      <td>Kansas</td>\n",
       "      <td>00</td>\n",
       "      <td>211755344060</td>\n",
       "      <td>1344141205</td>\n",
       "      <td>POLYGON ((-102.05174 40.00308, -101.91670 40.0...</td>\n",
       "      <td>1.829549e+09</td>\n",
       "    </tr>\n",
       "    <tr>\n",
       "      <th>2</th>\n",
       "      <td>40</td>\n",
       "      <td>01102857</td>\n",
       "      <td>0400000US40</td>\n",
       "      <td>40</td>\n",
       "      <td>OK</td>\n",
       "      <td>Oklahoma</td>\n",
       "      <td>00</td>\n",
       "      <td>177662925723</td>\n",
       "      <td>3374587997</td>\n",
       "      <td>POLYGON ((-103.00257 36.52659, -103.00219 36.6...</td>\n",
       "      <td>1.849858e+09</td>\n",
       "    </tr>\n",
       "    <tr>\n",
       "      <th>22</th>\n",
       "      <td>47</td>\n",
       "      <td>01325873</td>\n",
       "      <td>0400000US47</td>\n",
       "      <td>47</td>\n",
       "      <td>TN</td>\n",
       "      <td>Tennessee</td>\n",
       "      <td>00</td>\n",
       "      <td>106802728188</td>\n",
       "      <td>2350123465</td>\n",
       "      <td>POLYGON ((-90.31030 35.00429, -90.30988 35.009...</td>\n",
       "      <td>1.930207e+09</td>\n",
       "    </tr>\n",
       "    <tr>\n",
       "      <th>31</th>\n",
       "      <td>19</td>\n",
       "      <td>01779785</td>\n",
       "      <td>0400000US19</td>\n",
       "      <td>19</td>\n",
       "      <td>IA</td>\n",
       "      <td>Iowa</td>\n",
       "      <td>00</td>\n",
       "      <td>144661267977</td>\n",
       "      <td>1084180812</td>\n",
       "      <td>POLYGON ((-96.63970 42.73707, -96.63589 42.741...</td>\n",
       "      <td>1.947698e+09</td>\n",
       "    </tr>\n",
       "    <tr>\n",
       "      <th>50</th>\n",
       "      <td>09</td>\n",
       "      <td>01779780</td>\n",
       "      <td>0400000US09</td>\n",
       "      <td>09</td>\n",
       "      <td>CT</td>\n",
       "      <td>Connecticut</td>\n",
       "      <td>00</td>\n",
       "      <td>12542497068</td>\n",
       "      <td>1815617571</td>\n",
       "      <td>MULTIPOLYGON (((-72.76143 41.24233, -72.75973 ...</td>\n",
       "      <td>2.056216e+09</td>\n",
       "    </tr>\n",
       "    <tr>\n",
       "      <th>45</th>\n",
       "      <td>41</td>\n",
       "      <td>01155107</td>\n",
       "      <td>0400000US41</td>\n",
       "      <td>41</td>\n",
       "      <td>OR</td>\n",
       "      <td>Oregon</td>\n",
       "      <td>00</td>\n",
       "      <td>248606993270</td>\n",
       "      <td>6192386935</td>\n",
       "      <td>MULTIPOLYGON (((-123.59892 46.25145, -123.5984...</td>\n",
       "      <td>2.119948e+09</td>\n",
       "    </tr>\n",
       "    <tr>\n",
       "      <th>37</th>\n",
       "      <td>24</td>\n",
       "      <td>01714934</td>\n",
       "      <td>0400000US24</td>\n",
       "      <td>24</td>\n",
       "      <td>MD</td>\n",
       "      <td>Maryland</td>\n",
       "      <td>00</td>\n",
       "      <td>25151100280</td>\n",
       "      <td>6979966958</td>\n",
       "      <td>MULTIPOLYGON (((-76.05015 37.98691, -76.04998 ...</td>\n",
       "      <td>2.143639e+09</td>\n",
       "    </tr>\n",
       "    <tr>\n",
       "      <th>3</th>\n",
       "      <td>51</td>\n",
       "      <td>01779803</td>\n",
       "      <td>0400000US51</td>\n",
       "      <td>51</td>\n",
       "      <td>VA</td>\n",
       "      <td>Virginia</td>\n",
       "      <td>00</td>\n",
       "      <td>102257717110</td>\n",
       "      <td>8528531774</td>\n",
       "      <td>MULTIPOLYGON (((-75.74241 37.80835, -75.74151 ...</td>\n",
       "      <td>2.552698e+09</td>\n",
       "    </tr>\n",
       "    <tr>\n",
       "      <th>48</th>\n",
       "      <td>18</td>\n",
       "      <td>00448508</td>\n",
       "      <td>0400000US18</td>\n",
       "      <td>18</td>\n",
       "      <td>IN</td>\n",
       "      <td>Indiana</td>\n",
       "      <td>00</td>\n",
       "      <td>92789302676</td>\n",
       "      <td>1538002829</td>\n",
       "      <td>POLYGON ((-88.09776 37.90403, -88.09448 37.905...</td>\n",
       "      <td>2.565382e+09</td>\n",
       "    </tr>\n",
       "    <tr>\n",
       "      <th>1</th>\n",
       "      <td>37</td>\n",
       "      <td>01027616</td>\n",
       "      <td>0400000US37</td>\n",
       "      <td>37</td>\n",
       "      <td>NC</td>\n",
       "      <td>North Carolina</td>\n",
       "      <td>00</td>\n",
       "      <td>125923656064</td>\n",
       "      <td>13466071395</td>\n",
       "      <td>MULTIPOLYGON (((-75.72681 35.93584, -75.71827 ...</td>\n",
       "      <td>2.685352e+09</td>\n",
       "    </tr>\n",
       "    <tr>\n",
       "      <th>21</th>\n",
       "      <td>49</td>\n",
       "      <td>01455989</td>\n",
       "      <td>0400000US49</td>\n",
       "      <td>49</td>\n",
       "      <td>UT</td>\n",
       "      <td>Utah</td>\n",
       "      <td>00</td>\n",
       "      <td>212886221680</td>\n",
       "      <td>6998824394</td>\n",
       "      <td>POLYGON ((-114.05296 37.59278, -114.05247 37.6...</td>\n",
       "      <td>2.910197e+09</td>\n",
       "    </tr>\n",
       "    <tr>\n",
       "      <th>19</th>\n",
       "      <td>29</td>\n",
       "      <td>01779791</td>\n",
       "      <td>0400000US29</td>\n",
       "      <td>29</td>\n",
       "      <td>MO</td>\n",
       "      <td>Missouri</td>\n",
       "      <td>00</td>\n",
       "      <td>178050802184</td>\n",
       "      <td>2489425460</td>\n",
       "      <td>POLYGON ((-95.77355 40.57820, -95.76853 40.583...</td>\n",
       "      <td>3.326074e+09</td>\n",
       "    </tr>\n",
       "    <tr>\n",
       "      <th>7</th>\n",
       "      <td>25</td>\n",
       "      <td>00606926</td>\n",
       "      <td>0400000US25</td>\n",
       "      <td>25</td>\n",
       "      <td>MA</td>\n",
       "      <td>Massachusetts</td>\n",
       "      <td>00</td>\n",
       "      <td>20205125364</td>\n",
       "      <td>7129925486</td>\n",
       "      <td>MULTIPOLYGON (((-70.23405 41.28565, -70.22361 ...</td>\n",
       "      <td>3.387069e+09</td>\n",
       "    </tr>\n",
       "    <tr>\n",
       "      <th>6</th>\n",
       "      <td>26</td>\n",
       "      <td>01779789</td>\n",
       "      <td>0400000US26</td>\n",
       "      <td>26</td>\n",
       "      <td>MI</td>\n",
       "      <td>Michigan</td>\n",
       "      <td>00</td>\n",
       "      <td>146600952990</td>\n",
       "      <td>103885855702</td>\n",
       "      <td>MULTIPOLYGON (((-83.19159 42.03537, -83.18993 ...</td>\n",
       "      <td>3.851075e+09</td>\n",
       "    </tr>\n",
       "    <tr>\n",
       "      <th>44</th>\n",
       "      <td>55</td>\n",
       "      <td>01779806</td>\n",
       "      <td>0400000US55</td>\n",
       "      <td>55</td>\n",
       "      <td>WI</td>\n",
       "      <td>Wisconsin</td>\n",
       "      <td>00</td>\n",
       "      <td>140290039723</td>\n",
       "      <td>29344951758</td>\n",
       "      <td>MULTIPOLYGON (((-86.95617 45.35549, -86.95463 ...</td>\n",
       "      <td>4.348977e+09</td>\n",
       "    </tr>\n",
       "    <tr>\n",
       "      <th>34</th>\n",
       "      <td>04</td>\n",
       "      <td>01779777</td>\n",
       "      <td>0400000US04</td>\n",
       "      <td>04</td>\n",
       "      <td>AZ</td>\n",
       "      <td>Arizona</td>\n",
       "      <td>00</td>\n",
       "      <td>294198551143</td>\n",
       "      <td>1027337603</td>\n",
       "      <td>POLYGON ((-114.81629 32.50804, -114.81432 32.5...</td>\n",
       "      <td>4.378308e+09</td>\n",
       "    </tr>\n",
       "    <tr>\n",
       "      <th>36</th>\n",
       "      <td>34</td>\n",
       "      <td>01779795</td>\n",
       "      <td>0400000US34</td>\n",
       "      <td>34</td>\n",
       "      <td>NJ</td>\n",
       "      <td>New Jersey</td>\n",
       "      <td>00</td>\n",
       "      <td>19047825980</td>\n",
       "      <td>3544860246</td>\n",
       "      <td>POLYGON ((-75.55910 39.62906, -75.55945 39.629...</td>\n",
       "      <td>4.527548e+09</td>\n",
       "    </tr>\n",
       "    <tr>\n",
       "      <th>20</th>\n",
       "      <td>08</td>\n",
       "      <td>01779779</td>\n",
       "      <td>0400000US08</td>\n",
       "      <td>08</td>\n",
       "      <td>CO</td>\n",
       "      <td>Colorado</td>\n",
       "      <td>00</td>\n",
       "      <td>268422891711</td>\n",
       "      <td>1181621593</td>\n",
       "      <td>POLYGON ((-109.06025 38.59933, -109.05954 38.7...</td>\n",
       "      <td>4.634730e+09</td>\n",
       "    </tr>\n",
       "    <tr>\n",
       "      <th>11</th>\n",
       "      <td>53</td>\n",
       "      <td>01779804</td>\n",
       "      <td>0400000US53</td>\n",
       "      <td>53</td>\n",
       "      <td>WA</td>\n",
       "      <td>Washington</td>\n",
       "      <td>00</td>\n",
       "      <td>172112588220</td>\n",
       "      <td>12559278850</td>\n",
       "      <td>MULTIPOLYGON (((-122.57039 48.53785, -122.5686...</td>\n",
       "      <td>4.717211e+09</td>\n",
       "    </tr>\n",
       "    <tr>\n",
       "      <th>49</th>\n",
       "      <td>27</td>\n",
       "      <td>00662849</td>\n",
       "      <td>0400000US27</td>\n",
       "      <td>27</td>\n",
       "      <td>MN</td>\n",
       "      <td>Minnesota</td>\n",
       "      <td>00</td>\n",
       "      <td>206228939448</td>\n",
       "      <td>18945217189</td>\n",
       "      <td>MULTIPOLYGON (((-89.59206 47.96668, -89.59147 ...</td>\n",
       "      <td>4.825329e+09</td>\n",
       "    </tr>\n",
       "    <tr>\n",
       "      <th>18</th>\n",
       "      <td>42</td>\n",
       "      <td>01779798</td>\n",
       "      <td>0400000US42</td>\n",
       "      <td>42</td>\n",
       "      <td>PA</td>\n",
       "      <td>Pennsylvania</td>\n",
       "      <td>00</td>\n",
       "      <td>115884442321</td>\n",
       "      <td>3394589990</td>\n",
       "      <td>POLYGON ((-80.51989 40.90666, -80.51909 40.921...</td>\n",
       "      <td>4.913530e+09</td>\n",
       "    </tr>\n",
       "    <tr>\n",
       "      <th>43</th>\n",
       "      <td>39</td>\n",
       "      <td>01085497</td>\n",
       "      <td>0400000US39</td>\n",
       "      <td>39</td>\n",
       "      <td>OH</td>\n",
       "      <td>Ohio</td>\n",
       "      <td>00</td>\n",
       "      <td>105828882568</td>\n",
       "      <td>10268850702</td>\n",
       "      <td>MULTIPOLYGON (((-82.73571 41.60336, -82.73392 ...</td>\n",
       "      <td>5.124185e+09</td>\n",
       "    </tr>\n",
       "    <tr>\n",
       "      <th>28</th>\n",
       "      <td>17</td>\n",
       "      <td>01779784</td>\n",
       "      <td>0400000US17</td>\n",
       "      <td>17</td>\n",
       "      <td>IL</td>\n",
       "      <td>Illinois</td>\n",
       "      <td>00</td>\n",
       "      <td>143780567633</td>\n",
       "      <td>6214824948</td>\n",
       "      <td>POLYGON ((-91.51297 40.18106, -91.51107 40.188...</td>\n",
       "      <td>5.156636e+09</td>\n",
       "    </tr>\n",
       "    <tr>\n",
       "      <th>17</th>\n",
       "      <td>13</td>\n",
       "      <td>01705317</td>\n",
       "      <td>0400000US13</td>\n",
       "      <td>13</td>\n",
       "      <td>GA</td>\n",
       "      <td>Georgia</td>\n",
       "      <td>00</td>\n",
       "      <td>149482048342</td>\n",
       "      <td>4422936154</td>\n",
       "      <td>MULTIPOLYGON (((-81.27939 31.30792, -81.27716 ...</td>\n",
       "      <td>5.953677e+09</td>\n",
       "    </tr>\n",
       "    <tr>\n",
       "      <th>24</th>\n",
       "      <td>36</td>\n",
       "      <td>01779796</td>\n",
       "      <td>0400000US36</td>\n",
       "      <td>36</td>\n",
       "      <td>NY</td>\n",
       "      <td>New York</td>\n",
       "      <td>00</td>\n",
       "      <td>122049149763</td>\n",
       "      <td>19246994695</td>\n",
       "      <td>MULTIPOLYGON (((-72.03683 41.24984, -72.03496 ...</td>\n",
       "      <td>7.739839e+09</td>\n",
       "    </tr>\n",
       "    <tr>\n",
       "      <th>9</th>\n",
       "      <td>12</td>\n",
       "      <td>00294478</td>\n",
       "      <td>0400000US12</td>\n",
       "      <td>12</td>\n",
       "      <td>FL</td>\n",
       "      <td>Florida</td>\n",
       "      <td>00</td>\n",
       "      <td>138949136250</td>\n",
       "      <td>31361101223</td>\n",
       "      <td>MULTIPOLYGON (((-80.17628 25.52505, -80.17395 ...</td>\n",
       "      <td>8.177476e+09</td>\n",
       "    </tr>\n",
       "    <tr>\n",
       "      <th>14</th>\n",
       "      <td>48</td>\n",
       "      <td>01779801</td>\n",
       "      <td>0400000US48</td>\n",
       "      <td>48</td>\n",
       "      <td>TX</td>\n",
       "      <td>Texas</td>\n",
       "      <td>00</td>\n",
       "      <td>676653171537</td>\n",
       "      <td>19006305260</td>\n",
       "      <td>MULTIPOLYGON (((-94.71830 29.72885, -94.71721 ...</td>\n",
       "      <td>1.533100e+10</td>\n",
       "    </tr>\n",
       "    <tr>\n",
       "      <th>15</th>\n",
       "      <td>06</td>\n",
       "      <td>01779778</td>\n",
       "      <td>0400000US06</td>\n",
       "      <td>06</td>\n",
       "      <td>CA</td>\n",
       "      <td>California</td>\n",
       "      <td>00</td>\n",
       "      <td>403503931312</td>\n",
       "      <td>20463871877</td>\n",
       "      <td>MULTIPOLYGON (((-118.60442 33.47855, -118.5987...</td>\n",
       "      <td>3.444659e+10</td>\n",
       "    </tr>\n",
       "  </tbody>\n",
       "</table>\n",
       "</div>"
      ],
      "text/plain": [
       "   STATEFP   STATENS     AFFGEOID GEOID State                  NAME LSAD  \\\n",
       "35      11  01702382  0400000US11    11    DC  District of Columbia   00   \n",
       "40      10  01779781  0400000US10    10    DE              Delaware   00   \n",
       "39      15  01779782  0400000US15    15    HI                Hawaii   00   \n",
       "23      56  01779807  0400000US56    56    WY               Wyoming   00   \n",
       "4       54  01779805  0400000US54    54    WV         West Virginia   00   \n",
       "26      02  01785533  0400000US02    02    AK                Alaska   00   \n",
       "13      46  01785534  0400000US46    46    SD          South Dakota   00   \n",
       "29      50  01779802  0400000US50    50    VT               Vermont   00   \n",
       "38      23  01779787  0400000US23    23    ME                 Maine   00   \n",
       "46      38  01779797  0400000US38    38    ND          North Dakota   00   \n",
       "10      31  01779792  0400000US31    31    NE              Nebraska   00   \n",
       "41      44  01219835  0400000US44    44    RI          Rhode Island   00   \n",
       "12      35  00897535  0400000US35    35    NM            New Mexico   00   \n",
       "47      05  00068085  0400000US05    05    AR              Arkansas   00   \n",
       "32      45  01779799  0400000US45    45    SC        South Carolina   00   \n",
       "42      21  01779786  0400000US21    21    KY              Kentucky   00   \n",
       "30      30  00767982  0400000US30    30    MT               Montana   00   \n",
       "8       16  01779783  0400000US16    16    ID                 Idaho   00   \n",
       "0       28  01779790  0400000US28    28    MS           Mississippi   00   \n",
       "33      33  01779794  0400000US33    33    NH         New Hampshire   00   \n",
       "5       22  01629543  0400000US22    22    LA             Louisiana   00   \n",
       "27      32  01779793  0400000US32    32    NV                Nevada   00   \n",
       "16      01  01779775  0400000US01    01    AL               Alabama   00   \n",
       "25      20  00481813  0400000US20    20    KS                Kansas   00   \n",
       "2       40  01102857  0400000US40    40    OK              Oklahoma   00   \n",
       "22      47  01325873  0400000US47    47    TN             Tennessee   00   \n",
       "31      19  01779785  0400000US19    19    IA                  Iowa   00   \n",
       "50      09  01779780  0400000US09    09    CT           Connecticut   00   \n",
       "45      41  01155107  0400000US41    41    OR                Oregon   00   \n",
       "37      24  01714934  0400000US24    24    MD              Maryland   00   \n",
       "3       51  01779803  0400000US51    51    VA              Virginia   00   \n",
       "48      18  00448508  0400000US18    18    IN               Indiana   00   \n",
       "1       37  01027616  0400000US37    37    NC        North Carolina   00   \n",
       "21      49  01455989  0400000US49    49    UT                  Utah   00   \n",
       "19      29  01779791  0400000US29    29    MO              Missouri   00   \n",
       "7       25  00606926  0400000US25    25    MA         Massachusetts   00   \n",
       "6       26  01779789  0400000US26    26    MI              Michigan   00   \n",
       "44      55  01779806  0400000US55    55    WI             Wisconsin   00   \n",
       "34      04  01779777  0400000US04    04    AZ               Arizona   00   \n",
       "36      34  01779795  0400000US34    34    NJ            New Jersey   00   \n",
       "20      08  01779779  0400000US08    08    CO              Colorado   00   \n",
       "11      53  01779804  0400000US53    53    WA            Washington   00   \n",
       "49      27  00662849  0400000US27    27    MN             Minnesota   00   \n",
       "18      42  01779798  0400000US42    42    PA          Pennsylvania   00   \n",
       "43      39  01085497  0400000US39    39    OH                  Ohio   00   \n",
       "28      17  01779784  0400000US17    17    IL              Illinois   00   \n",
       "17      13  01705317  0400000US13    13    GA               Georgia   00   \n",
       "24      36  01779796  0400000US36    36    NY              New York   00   \n",
       "9       12  00294478  0400000US12    12    FL               Florida   00   \n",
       "14      48  01779801  0400000US48    48    TX                 Texas   00   \n",
       "15      06  01779778  0400000US06    06    CA            California   00   \n",
       "\n",
       "            ALAND        AWATER  \\\n",
       "35      158340391      18687198   \n",
       "40     5045925646    1399985648   \n",
       "39    16633990195   11777809026   \n",
       "23   251458544898    1867670745   \n",
       "4     62266474513     489028543   \n",
       "26  1478839695958  245481577452   \n",
       "13   196346981786    3382720225   \n",
       "29    23874175944    1030416650   \n",
       "38    79887426037   11746549764   \n",
       "46   178707534813    4403267548   \n",
       "10   198956658395    1371829134   \n",
       "41     2677779902    1323670487   \n",
       "12   314196306401     728776523   \n",
       "47   134768872727    2962859592   \n",
       "32    77864918488    5075218778   \n",
       "42   102279490672    2375337755   \n",
       "30   376962738765    3869208832   \n",
       "8    214049787659    2391722557   \n",
       "0    121533519481    3926919758   \n",
       "33    23189413166    1026675248   \n",
       "5    111897594374   23753621895   \n",
       "27   284329506470    2047206072   \n",
       "16   131174048583    4593327154   \n",
       "25   211755344060    1344141205   \n",
       "2    177662925723    3374587997   \n",
       "22   106802728188    2350123465   \n",
       "31   144661267977    1084180812   \n",
       "50    12542497068    1815617571   \n",
       "45   248606993270    6192386935   \n",
       "37    25151100280    6979966958   \n",
       "3    102257717110    8528531774   \n",
       "48    92789302676    1538002829   \n",
       "1    125923656064   13466071395   \n",
       "21   212886221680    6998824394   \n",
       "19   178050802184    2489425460   \n",
       "7     20205125364    7129925486   \n",
       "6    146600952990  103885855702   \n",
       "44   140290039723   29344951758   \n",
       "34   294198551143    1027337603   \n",
       "36    19047825980    3544860246   \n",
       "20   268422891711    1181621593   \n",
       "11   172112588220   12559278850   \n",
       "49   206228939448   18945217189   \n",
       "18   115884442321    3394589990   \n",
       "43   105828882568   10268850702   \n",
       "28   143780567633    6214824948   \n",
       "17   149482048342    4422936154   \n",
       "24   122049149763   19246994695   \n",
       "9    138949136250   31361101223   \n",
       "14   676653171537   19006305260   \n",
       "15   403503931312   20463871877   \n",
       "\n",
       "                                             geometry        GrAppv  \n",
       "35  POLYGON ((-77.11976 38.93434, -77.11253 38.940...  2.462230e+08  \n",
       "40  MULTIPOLYGON (((-75.56555 39.51485, -75.56174 ...  3.186187e+08  \n",
       "39  MULTIPOLYGON (((-156.06076 19.73055, -156.0566...  4.451825e+08  \n",
       "23  POLYGON ((-111.05456 45.00095, -111.04507 45.0...  4.940757e+08  \n",
       "4   POLYGON ((-82.64320 38.16909, -82.64300 38.169...  4.959768e+08  \n",
       "26  MULTIPOLYGON (((179.48246 51.98283, 179.48656 ...  5.111215e+08  \n",
       "13  POLYGON ((-104.05788 44.99761, -104.05078 44.9...  7.124238e+08  \n",
       "29  POLYGON ((-73.43774 44.04501, -73.43199 44.063...  7.924957e+08  \n",
       "38  MULTIPOLYGON (((-67.35580 44.64226, -67.35437 ...  8.399876e+08  \n",
       "46  POLYGON ((-104.04868 48.86378, -104.04865 48.8...  8.802879e+08  \n",
       "10  POLYGON ((-104.05342 41.17054, -104.05324 41.1...  1.022229e+09  \n",
       "41  MULTIPOLYGON (((-71.28802 41.64558, -71.28647 ...  1.105269e+09  \n",
       "12  POLYGON ((-109.05017 31.48000, -109.04984 31.4...  1.140375e+09  \n",
       "47  POLYGON ((-94.61783 36.49941, -94.61765 36.499...  1.176001e+09  \n",
       "32  MULTIPOLYGON (((-79.50795 33.02008, -79.50713 ...  1.235821e+09  \n",
       "42  MULTIPOLYGON (((-89.40565 36.52817, -89.39869 ...  1.279067e+09  \n",
       "30  POLYGON ((-116.04914 48.50205, -116.04913 48.5...  1.374350e+09  \n",
       "8   POLYGON ((-117.24267 44.39655, -117.23484 44.3...  1.499636e+09  \n",
       "0   MULTIPOLYGON (((-88.50297 30.21523, -88.49176 ...  1.509448e+09  \n",
       "33  MULTIPOLYGON (((-70.61702 42.97718, -70.61529 ...  1.532731e+09  \n",
       "5   MULTIPOLYGON (((-88.86770 29.86155, -88.86566 ...  1.651189e+09  \n",
       "27  POLYGON ((-120.00574 39.22866, -120.00559 39.2...  1.736167e+09  \n",
       "16  MULTIPOLYGON (((-88.05338 30.50699, -88.05109 ...  1.827131e+09  \n",
       "25  POLYGON ((-102.05174 40.00308, -101.91670 40.0...  1.829549e+09  \n",
       "2   POLYGON ((-103.00257 36.52659, -103.00219 36.6...  1.849858e+09  \n",
       "22  POLYGON ((-90.31030 35.00429, -90.30988 35.009...  1.930207e+09  \n",
       "31  POLYGON ((-96.63970 42.73707, -96.63589 42.741...  1.947698e+09  \n",
       "50  MULTIPOLYGON (((-72.76143 41.24233, -72.75973 ...  2.056216e+09  \n",
       "45  MULTIPOLYGON (((-123.59892 46.25145, -123.5984...  2.119948e+09  \n",
       "37  MULTIPOLYGON (((-76.05015 37.98691, -76.04998 ...  2.143639e+09  \n",
       "3   MULTIPOLYGON (((-75.74241 37.80835, -75.74151 ...  2.552698e+09  \n",
       "48  POLYGON ((-88.09776 37.90403, -88.09448 37.905...  2.565382e+09  \n",
       "1   MULTIPOLYGON (((-75.72681 35.93584, -75.71827 ...  2.685352e+09  \n",
       "21  POLYGON ((-114.05296 37.59278, -114.05247 37.6...  2.910197e+09  \n",
       "19  POLYGON ((-95.77355 40.57820, -95.76853 40.583...  3.326074e+09  \n",
       "7   MULTIPOLYGON (((-70.23405 41.28565, -70.22361 ...  3.387069e+09  \n",
       "6   MULTIPOLYGON (((-83.19159 42.03537, -83.18993 ...  3.851075e+09  \n",
       "44  MULTIPOLYGON (((-86.95617 45.35549, -86.95463 ...  4.348977e+09  \n",
       "34  POLYGON ((-114.81629 32.50804, -114.81432 32.5...  4.378308e+09  \n",
       "36  POLYGON ((-75.55910 39.62906, -75.55945 39.629...  4.527548e+09  \n",
       "20  POLYGON ((-109.06025 38.59933, -109.05954 38.7...  4.634730e+09  \n",
       "11  MULTIPOLYGON (((-122.57039 48.53785, -122.5686...  4.717211e+09  \n",
       "49  MULTIPOLYGON (((-89.59206 47.96668, -89.59147 ...  4.825329e+09  \n",
       "18  POLYGON ((-80.51989 40.90666, -80.51909 40.921...  4.913530e+09  \n",
       "43  MULTIPOLYGON (((-82.73571 41.60336, -82.73392 ...  5.124185e+09  \n",
       "28  POLYGON ((-91.51297 40.18106, -91.51107 40.188...  5.156636e+09  \n",
       "17  MULTIPOLYGON (((-81.27939 31.30792, -81.27716 ...  5.953677e+09  \n",
       "24  MULTIPOLYGON (((-72.03683 41.24984, -72.03496 ...  7.739839e+09  \n",
       "9   MULTIPOLYGON (((-80.17628 25.52505, -80.17395 ...  8.177476e+09  \n",
       "14  MULTIPOLYGON (((-94.71830 29.72885, -94.71721 ...  1.533100e+10  \n",
       "15  MULTIPOLYGON (((-118.60442 33.47855, -118.5987...  3.444659e+10  "
      ]
     },
     "execution_count": 26,
     "metadata": {},
     "output_type": "execute_result"
    }
   ],
   "source": [
    "states_map_loans.sort_values('GrAppv', axis=0, ascending=True)"
   ]
  },
  {
   "cell_type": "code",
   "execution_count": 27,
   "metadata": {
    "scrolled": true
   },
   "outputs": [
    {
     "data": {
      "image/png": "[encoded data removed]",
      "text/plain": [
       "<Figure size 1800x720 with 1 Axes>"
      ]
     },
     "metadata": {
      "needs_background": "light"
     },
     "output_type": "display_data"
    }
   ],
   "source": [
    "states_map_loans.plot('GrAppv', figsize = (25, 10), cmap = 'coolwarm')\n",
    "plt.title('Amount of Loans Approved by State', fontsize=24)\n",
    "plt.xlim(-170, -60)\n",
    "plt.ylim(19, 73)\n",
    "plt.show()"
   ]
  },
  {
   "cell_type": "markdown",
   "metadata": {},
   "source": [
    "- Businesses in California by far receive more loans. \n",
    "- Larger states (population wise) receive more loans than smaller states. There is a good correlation between state population and loans issued to businesses in that state. "
   ]
  },
  {
   "cell_type": "code",
   "execution_count": null,
   "metadata": {},
   "outputs": [],
   "source": []
  },
  {
   "cell_type": "markdown",
   "metadata": {},
   "source": [
    "## Model"
   ]
  },
  {
   "cell_type": "markdown",
   "metadata": {},
   "source": [
    "Classification models are being fit to determine if accurate predictions can be made. "
   ]
  },
  {
   "cell_type": "markdown",
   "metadata": {},
   "source": [
    "The below code is used to select columns for the dataframe to generate feature matrix. "
   ]
  },
  {
   "cell_type": "code",
   "execution_count": 28,
   "metadata": {},
   "outputs": [],
   "source": [
    "class ColumnSelector(base.BaseEstimator, base.TransformerMixin):\n",
    "    \n",
    "    def __init__(self, col_names):\n",
    "        self.col_names = col_names  # We will need these in transform()\n",
    "    \n",
    "    def fit(self, X, y=None):\n",
    "        # This transformer doesn't need to learn anything about the data,\n",
    "        # so it can just return self without any further processing\n",
    "        return self\n",
    "    \n",
    "    def transform(self, X):\n",
    "        # Return an array with the same number of rows as X and one\n",
    "        # column for each in self.col_names\n",
    "        return X[self.col_names]"
   ]
  },
  {
   "cell_type": "markdown",
   "metadata": {},
   "source": [
    "The below code generates test/train split of the dataset"
   ]
  },
  {
   "cell_type": "code",
   "execution_count": 29,
   "metadata": {},
   "outputs": [],
   "source": [
    "X_log_train, X_log_test, y_log_train, y_log_test = train_test_split(df, df['LoanDefaulted'])"
   ]
  },
  {
   "cell_type": "code",
   "execution_count": 30,
   "metadata": {},
   "outputs": [
    {
     "data": {
      "text/plain": [
       "Index(['LoanNr_ChkDgt', 'Name', 'City', 'State', 'Zip', 'Bank', 'BankState',\n",
       "       'NAICS', 'ApprovalDate', 'ApprovalFY', 'Term', 'NoEmp', 'NewExist',\n",
       "       'CreateJob', 'RetainedJob', 'FranchiseCode', 'UrbanRural', 'RevLineCr',\n",
       "       'LowDoc', 'ChgOffDate', 'DisbursementDate', 'DisbursementGross',\n",
       "       'BalanceGross', 'MIS_Status', 'ChgOffPrinGr', 'GrAppv', 'SBA_Appv',\n",
       "       'TotalJobs', 'TimeDefault', 'Industry', 'Franchise', 'z',\n",
       "       'LoanDefaulted'],\n",
       "      dtype='object')"
      ]
     },
     "execution_count": 30,
     "metadata": {},
     "output_type": "execute_result"
    }
   ],
   "source": [
    "df.columns"
   ]
  },
  {
   "cell_type": "markdown",
   "metadata": {},
   "source": [
    "Generation of feature matrix for categorical features. "
   ]
  },
  {
   "cell_type": "code",
   "execution_count": 31,
   "metadata": {},
   "outputs": [],
   "source": [
    "cat_features = Pipeline([\n",
    "('ColumnSelector', ColumnSelector(['NewExist', 'UrbanRural', 'Franchise', 'Industry'])),\n",
    " ('OneHotEncoding', OneHotEncoder()),\n",
    " #('Classifier', RandomForestClassifier())\n",
    " ])"
   ]
  },
  {
   "cell_type": "markdown",
   "metadata": {},
   "source": [
    "Generation of feature matrix for quantitative features. "
   ]
  },
  {
   "cell_type": "code",
   "execution_count": 32,
   "metadata": {},
   "outputs": [],
   "source": [
    "quant_features = Pipeline([\n",
    "('ColumnSelector', ColumnSelector(['TotalJobs', 'GrAppv', 'SBA_Appv'])),\n",
    " # ('Classifier', RandomForestClassifier())\n",
    " ])"
   ]
  },
  {
   "cell_type": "markdown",
   "metadata": {},
   "source": [
    "The below cells are used to combine the two feature matrices into a single matrix to be fed to our models. "
   ]
  },
  {
   "cell_type": "code",
   "execution_count": 33,
   "metadata": {},
   "outputs": [],
   "source": [
    "\n",
    "class EstimatorTransformer(base.BaseEstimator, base.TransformerMixin):\n",
    "    \n",
    "    def __init__(self, estimator):\n",
    "        self.estimator = estimator\n",
    "        # What needs to be done here?\n",
    "    \n",
    "    def fit(self, X, y):\n",
    "        # Fit the stored estimator.\n",
    "        self.estimator.fit(X, y)\n",
    "        # Question: what should be returned?\n",
    "        return self\n",
    "    \n",
    "    def transform(self, X):\n",
    "        # Use predict on the stored estimator as a \"transformation\".\n",
    "        # Be sure to return a 2-D array.\n",
    "        arr = self.estimator.predict(X)\n",
    "        arr_2d = np.reshape(arr, (-1, 1))\n",
    "        return arr_2d"
   ]
  },
  {
   "cell_type": "code",
   "execution_count": 34,
   "metadata": {},
   "outputs": [],
   "source": [
    "from sklearn.pipeline import FeatureUnion\n",
    "\n",
    "union = FeatureUnion([\n",
    "        # FeatureUnions use the same syntax as Pipelines\n",
    "        ('CatFeatures', cat_features),\n",
    "        ('QuantFeatures', quant_features)\n",
    "    ])"
   ]
  },
  {
   "cell_type": "markdown",
   "metadata": {},
   "source": [
    "### Logistic Regression Model"
   ]
  },
  {
   "cell_type": "markdown",
   "metadata": {},
   "source": [
    "Attempting to fit a regular logistic regression model (for simplicity purposes):"
   ]
  },
  {
   "cell_type": "code",
   "execution_count": 35,
   "metadata": {},
   "outputs": [],
   "source": [
    "model_logreg = Pipeline([\n",
    "                    ('Union', union),\n",
    "                    ('Classifier', LogisticRegression())\n",
    "])"
   ]
  },
  {
   "cell_type": "code",
   "execution_count": 36,
   "metadata": {},
   "outputs": [],
   "source": [
    "model_logreg.fit(X_log_train, y_log_train)\n",
    "y_pred = model_logreg.predict(X_log_test)"
   ]
  },
  {
   "cell_type": "code",
   "execution_count": 37,
   "metadata": {},
   "outputs": [
    {
     "data": {
      "text/plain": [
       "0.818899926301913"
      ]
     },
     "execution_count": 37,
     "metadata": {},
     "output_type": "execute_result"
    }
   ],
   "source": [
    "model_logreg.score(X_log_train, y_log_train)"
   ]
  },
  {
   "cell_type": "code",
   "execution_count": 38,
   "metadata": {},
   "outputs": [
    {
     "data": {
      "text/plain": [
       "(184177, 33, 40555, 26)"
      ]
     },
     "execution_count": 38,
     "metadata": {},
     "output_type": "execute_result"
    }
   ],
   "source": [
    "tn, fp, fn, tp = confusion_matrix(y_log_test, y_pred).ravel()\n",
    "(tn, fp, fn, tp)"
   ]
  },
  {
   "cell_type": "code",
   "execution_count": 39,
   "metadata": {},
   "outputs": [
    {
     "data": {
      "text/plain": [
       "18.09447442290839"
      ]
     },
     "execution_count": 39,
     "metadata": {},
     "output_type": "execute_result"
    }
   ],
   "source": [
    "percent_defaulted = df['LoanDefaulted'].loc[df['LoanDefaulted'] == True].count() / df['LoanDefaulted'].count() *100\n",
    "percent_defaulted"
   ]
  },
  {
   "cell_type": "markdown",
   "metadata": {},
   "source": [
    "In this case the model is not doing much better than predicting the majority class in many cases. \n",
    "It can be seen in the confusion matrix in the high number of false negatives, and low number of true positives. "
   ]
  },
  {
   "cell_type": "markdown",
   "metadata": {},
   "source": [
    "### Random Forest Model"
   ]
  },
  {
   "cell_type": "markdown",
   "metadata": {},
   "source": [
    "A random forest model was fit to try to make better predictions than a logistic regression. "
   ]
  },
  {
   "cell_type": "code",
   "execution_count": 40,
   "metadata": {},
   "outputs": [],
   "source": [
    "model = Pipeline([\n",
    "                    ('Union', union),\n",
    "                    ('Classifier', RandomForestClassifier())\n",
    "])"
   ]
  },
  {
   "cell_type": "code",
   "execution_count": 41,
   "metadata": {},
   "outputs": [],
   "source": [
    "model.fit(X_log_train, y_log_train)\n",
    "y_pred = model.predict(X_log_test)"
   ]
  },
  {
   "cell_type": "code",
   "execution_count": 42,
   "metadata": {},
   "outputs": [
    {
     "data": {
      "text/plain": [
       "0.8802176243710824"
      ]
     },
     "execution_count": 42,
     "metadata": {},
     "output_type": "execute_result"
    }
   ],
   "source": [
    "model.score(X_log_train, y_log_train)"
   ]
  },
  {
   "cell_type": "code",
   "execution_count": 43,
   "metadata": {},
   "outputs": [
    {
     "data": {
      "text/plain": [
       "(174298, 9912, 33316, 7265)"
      ]
     },
     "execution_count": 43,
     "metadata": {},
     "output_type": "execute_result"
    }
   ],
   "source": [
    "tn, fp, fn, tp = confusion_matrix(y_log_test, y_pred).ravel()\n",
    "(tn, fp, fn, tp)"
   ]
  },
  {
   "cell_type": "markdown",
   "metadata": {},
   "source": [
    "In this case the accuracy of the predictions improved as observed by the model score, as well as the confusion matrix. While the predictions are better than the ones accomplished by standard logistic regression, the features analyzed are not great at making predictions on loan defaults. Additional features may need to be considered in order to make more accurate predictions. "
   ]
  }
 ],
 "metadata": {
  "kernelspec": {
   "display_name": "Python 3",
   "language": "python",
   "name": "python3"
  },
  "language_info": {
   "codemirror_mode": {
    "name": "ipython",
    "version": 3
   },
   "file_extension": ".py",
   "mimetype": "text/x-python",
   "name": "python",
   "nbconvert_exporter": "python",
   "pygments_lexer": "ipython3",
   "version": "3.8.5"
  }
 },
 "nbformat": 4,
 "nbformat_minor": 4
}
